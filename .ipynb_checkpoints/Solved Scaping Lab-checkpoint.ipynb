{
 "cells": [
  {
   "cell_type": "markdown",
   "id": "eb879e37-39d6-413d-a1af-c42b6fc027fa",
   "metadata": {},
   "source": [
    "#### Instructions - Scraping popular songs\n",
    "\n",
    "Your product will take a song as an input from the user and will output another song (the recommendation). In most cases, the recommended song will have to be similar to the inputted song, but the CTO thinks that if the song is on the top charts at the moment, the user will enjoy more a recommendation of a song that's also popular at the moment.\n",
    "\n",
    "You have find data on the internet about currently popular songs. Billboard maintains a weekly Top 100 of \"hot\" songs here: [https://www.billboard.com/charts/hot-100](https://www.billboard.com/charts/hot-100).\n",
    "\n",
    "It's a good place to start! Scrape the current top 100 songs and their respective artists, and put the information into a pandas dataframe."
   ]
  },
  {
   "cell_type": "code",
   "execution_count": 6,
   "id": "1468a128-03a2-4b1b-bdd4-9183fcdb86f4",
   "metadata": {},
   "outputs": [],
   "source": [
    "import pandas as pd\n",
    "from bs4 import BeautifulSoup\n",
    "import requests\n",
    "\n",
    "pd.set_option('display.max_columns', None) "
   ]
  },
  {
   "cell_type": "code",
   "execution_count": 7,
   "id": "2239e98d-b2ea-4e62-b7b5-3e59d18f7b90",
   "metadata": {},
   "outputs": [],
   "source": [
    "link = \"https://www.billboard.com/charts/hot-100/\""
   ]
  },
  {
   "cell_type": "code",
   "execution_count": 8,
   "id": "30dc111a-b0c5-491d-8b7c-0b932c9116e3",
   "metadata": {},
   "outputs": [
    {
     "data": {
      "text/plain": [
       "200"
      ]
     },
     "execution_count": 8,
     "metadata": {},
     "output_type": "execute_result"
    }
   ],
   "source": [
    "response = requests.get(link)\n",
    "\n",
    "response.status_code"
   ]
  },
  {
   "cell_type": "code",
   "execution_count": 9,
   "id": "bd1916ea-ce5b-4a28-ba58-1f0fe3688fdc",
   "metadata": {},
   "outputs": [],
   "source": [
    "soup = BeautifulSoup(response.text, 'html.parser')"
   ]
  },
  {
   "cell_type": "code",
   "execution_count": 12,
   "id": "4a0789d0-dc15-4b38-874f-b586c261cc9e",
   "metadata": {},
   "outputs": [],
   "source": [
    "songs = []\n",
    "for x in soup.find_all(attrs={'class':'o-chart-results-list-row-container'}):\n",
    "    songs.append(x.h3.get_text(strip=True))"
   ]
  },
  {
   "cell_type": "code",
   "execution_count": 13,
   "id": "73eaf47d-b758-4353-abe2-35bc48da4f65",
   "metadata": {},
   "outputs": [],
   "source": [
    "bands = []\n",
    "for x in soup.find_all(attrs={'class':'o-chart-results-list-row-container'}):\n",
    "    bands.append(x.h3.find_next('span').get_text(strip=True))"
   ]
  },
  {
   "cell_type": "code",
   "execution_count": 14,
   "id": "23811fa6-0a22-46ce-85ed-0d4b5ecaa285",
   "metadata": {},
   "outputs": [],
   "source": [
    "rank =[]\n",
    "for x in soup.find_all(attrs={'class':'o-chart-results-list-row-container'}):\n",
    "    rank.append(x.li.find_next('span').get_text(strip=True))"
   ]
  },
  {
   "cell_type": "code",
   "execution_count": 18,
   "id": "92cedace-80f6-4c10-b9d3-79467041573a",
   "metadata": {},
   "outputs": [],
   "source": [
    "data = {\"rank\": rank,\n",
    "             \"music\": songs,\n",
    "             \"band\": bands}"
   ]
  },
  {
   "cell_type": "code",
   "execution_count": 19,
   "id": "58afaa37-db59-4aa5-8ab3-5f0a3e04ddca",
   "metadata": {},
   "outputs": [
    {
     "data": {
      "text/html": [
       "<div>\n",
       "<style scoped>\n",
       "    .dataframe tbody tr th:only-of-type {\n",
       "        vertical-align: middle;\n",
       "    }\n",
       "\n",
       "    .dataframe tbody tr th {\n",
       "        vertical-align: top;\n",
       "    }\n",
       "\n",
       "    .dataframe thead th {\n",
       "        text-align: right;\n",
       "    }\n",
       "</style>\n",
       "<table border=\"1\" class=\"dataframe\">\n",
       "  <thead>\n",
       "    <tr style=\"text-align: right;\">\n",
       "      <th></th>\n",
       "      <th>rank</th>\n",
       "      <th>music</th>\n",
       "      <th>band</th>\n",
       "    </tr>\n",
       "  </thead>\n",
       "  <tbody>\n",
       "    <tr>\n",
       "      <th>0</th>\n",
       "      <td>1</td>\n",
       "      <td>A Bar Song (Tipsy)</td>\n",
       "      <td>Shaboozey</td>\n",
       "    </tr>\n",
       "    <tr>\n",
       "      <th>1</th>\n",
       "      <td>2</td>\n",
       "      <td>I Had Some Help</td>\n",
       "      <td>Post Malone Featuring Morgan Wallen</td>\n",
       "    </tr>\n",
       "    <tr>\n",
       "      <th>2</th>\n",
       "      <td>3</td>\n",
       "      <td>Espresso</td>\n",
       "      <td>Sabrina Carpenter</td>\n",
       "    </tr>\n",
       "    <tr>\n",
       "      <th>3</th>\n",
       "      <td>4</td>\n",
       "      <td>Good Luck, Babe!</td>\n",
       "      <td>Chappell Roan</td>\n",
       "    </tr>\n",
       "    <tr>\n",
       "      <th>4</th>\n",
       "      <td>5</td>\n",
       "      <td>Die With A Smile</td>\n",
       "      <td>Lady Gaga &amp; Bruno Mars</td>\n",
       "    </tr>\n",
       "    <tr>\n",
       "      <th>...</th>\n",
       "      <td>...</td>\n",
       "      <td>...</td>\n",
       "      <td>...</td>\n",
       "    </tr>\n",
       "    <tr>\n",
       "      <th>95</th>\n",
       "      <td>96</td>\n",
       "      <td>Diet Pepsi</td>\n",
       "      <td>Addison Rae</td>\n",
       "    </tr>\n",
       "    <tr>\n",
       "      <th>96</th>\n",
       "      <td>97</td>\n",
       "      <td>Coincidence</td>\n",
       "      <td>Sabrina Carpenter</td>\n",
       "    </tr>\n",
       "    <tr>\n",
       "      <th>97</th>\n",
       "      <td>98</td>\n",
       "      <td>Passport Junkie</td>\n",
       "      <td>Rod Wave</td>\n",
       "    </tr>\n",
       "    <tr>\n",
       "      <th>98</th>\n",
       "      <td>99</td>\n",
       "      <td>Circadian Rhythm</td>\n",
       "      <td>Drake</td>\n",
       "    </tr>\n",
       "    <tr>\n",
       "      <th>99</th>\n",
       "      <td>100</td>\n",
       "      <td>Sharpest Tool</td>\n",
       "      <td>Sabrina Carpenter</td>\n",
       "    </tr>\n",
       "  </tbody>\n",
       "</table>\n",
       "<p>100 rows × 3 columns</p>\n",
       "</div>"
      ],
      "text/plain": [
       "   rank               music                                 band\n",
       "0     1  A Bar Song (Tipsy)                            Shaboozey\n",
       "1     2     I Had Some Help  Post Malone Featuring Morgan Wallen\n",
       "2     3            Espresso                    Sabrina Carpenter\n",
       "3     4    Good Luck, Babe!                        Chappell Roan\n",
       "4     5    Die With A Smile               Lady Gaga & Bruno Mars\n",
       "..  ...                 ...                                  ...\n",
       "95   96          Diet Pepsi                          Addison Rae\n",
       "96   97         Coincidence                    Sabrina Carpenter\n",
       "97   98     Passport Junkie                             Rod Wave\n",
       "98   99    Circadian Rhythm                                Drake\n",
       "99  100       Sharpest Tool                    Sabrina Carpenter\n",
       "\n",
       "[100 rows x 3 columns]"
      ]
     },
     "execution_count": 19,
     "metadata": {},
     "output_type": "execute_result"
    }
   ],
   "source": [
    "df = pd.DataFrame(data)\n",
    "df"
   ]
  },
  {
   "cell_type": "code",
   "execution_count": null,
   "id": "6b4ed19f-e6ed-46f1-83c1-52e6ad64911d",
   "metadata": {},
   "outputs": [],
   "source": []
  }
 ],
 "metadata": {
  "kernelspec": {
   "display_name": "Python 3 (ipykernel)",
   "language": "python",
   "name": "python3"
  },
  "language_info": {
   "codemirror_mode": {
    "name": "ipython",
    "version": 3
   },
   "file_extension": ".py",
   "mimetype": "text/x-python",
   "name": "python",
   "nbconvert_exporter": "python",
   "pygments_lexer": "ipython3",
   "version": "3.12.4"
  }
 },
 "nbformat": 4,
 "nbformat_minor": 5
}
